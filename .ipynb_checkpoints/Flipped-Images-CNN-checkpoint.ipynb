{
 "cells": [
  {
   "cell_type": "markdown",
   "metadata": {
    "deletable": true,
    "editable": true
   },
   "source": [
    "# Multi-Label Classification Lab\n",
    "\n",
    "Welcome to the Multi-Label Image Classification Lab! By the end of this lab, you will have\n",
    "\n",
    "- Implemented a multi-label image classification model\n",
    "- Gained intuition for how a CNN learns to predict multiple classes\n",
    "- Used data augmentation to maximize the effective size of your training set"
   ]
  },
  {
   "cell_type": "markdown",
   "metadata": {
    "deletable": true,
    "editable": true
   },
   "source": [
    "# Load MNIST Images\n",
    "\n",
    "The following code loads MNIST images and normalizes them. It also displays the first five images in the dataset."
   ]
  },
  {
   "cell_type": "code",
   "execution_count": 1,
   "metadata": {
    "collapsed": false,
    "deletable": true,
    "editable": true
   },
   "outputs": [
    {
     "name": "stderr",
     "output_type": "stream",
     "text": [
      "Using TensorFlow backend.\n"
     ]
    },
    {
     "data": {
      "image/png": "[encoded data removed]",
      "text/plain": [
       "<PIL.Image.Image image mode=L size=28x28 at 0x10C952A58>"
      ]
     },
     "metadata": {},
     "output_type": "display_data"
    },
    {
     "data": {
      "image/png": "[encoded data removed]",
      "text/plain": [
       "<PIL.Image.Image image mode=L size=28x28 at 0x10E01D780>"
      ]
     },
     "metadata": {},
     "output_type": "display_data"
    },
    {
     "data": {
      "image/png": "[encoded data removed]",
      "text/plain": [
       "<PIL.Image.Image image mode=L size=28x28 at 0x10E11BE48>"
      ]
     },
     "metadata": {},
     "output_type": "display_data"
    },
    {
     "data": {
      "image/png": "[encoded data removed]",
      "text/plain": [
       "<PIL.Image.Image image mode=L size=28x28 at 0x10C886668>"
      ]
     },
     "metadata": {},
     "output_type": "display_data"
    },
    {
     "data": {
      "image/png": "[encoded data removed]",
      "text/plain": [
       "<PIL.Image.Image image mode=L size=28x28 at 0x10E11BDD8>"
      ]
     },
     "metadata": {},
     "output_type": "display_data"
    },
    {
     "data": {
      "text/plain": [
       "(60000, 28, 28)"
      ]
     },
     "execution_count": 1,
     "metadata": {},
     "output_type": "execute_result"
    }
   ],
   "source": [
    "import keras\n",
    "from IPython.display import display\n",
    "import numpy as np\n",
    "from keras.datasets import mnist\n",
    "from keras.preprocessing.image import array_to_img, img_to_array\n",
    "\n",
    "[X_mnist, y_mnist], _ = mnist.load_data()\n",
    "X_mnist = X_mnist.astype(np.float) / 255.\n",
    "\n",
    "for x in X_mnist[:5]:\n",
    "    x = np.expand_dims(x, axis=0)\n",
    "    img = array_to_img(x, data_format='channels_first')\n",
    "    display(img)\n",
    "    \n",
    "X_mnist.shape"
   ]
  },
  {
   "cell_type": "markdown",
   "metadata": {
    "deletable": true,
    "editable": true
   },
   "source": [
    "# Concatenate Images\n",
    "\n",
    "The following code creates images of the form\n",
    "\n",
    "| Left | Right |\n",
    "|:----:|:-----:|\n",
    "| $\\mathbb{N}_9$ - $\\{3\\}$ | $\\mathbb{N}_9$ |\n",
    "\n",
    "where $\\mathbb{N}_n$ are the digits $(0, 1, \\ldots, n)$."
   ]
  },
  {
   "cell_type": "code",
   "execution_count": 2,
   "metadata": {
    "collapsed": false,
    "deletable": true,
    "editable": true
   },
   "outputs": [
    {
     "name": "stdout",
     "output_type": "stream",
     "text": [
      "[0 2]\n"
     ]
    },
    {
     "data": {
      "image/png": "[encoded data removed]",
      "text/plain": [
       "<PIL.Image.Image image mode=L size=56x28 at 0x1013314A8>"
      ]
     },
     "metadata": {},
     "output_type": "display_data"
    },
    {
     "name": "stdout",
     "output_type": "stream",
     "text": [
      "[6 1]\n"
     ]
    },
    {
     "data": {
      "image/png": "[encoded data removed]",
      "text/plain": [
       "<PIL.Image.Image image mode=L size=56x28 at 0x10E11BDD8>"
      ]
     },
     "metadata": {},
     "output_type": "display_data"
    },
    {
     "name": "stdout",
     "output_type": "stream",
     "text": [
      "[8 5]\n"
     ]
    },
    {
     "data": {
      "image/png": "[encoded data removed]",
      "text/plain": [
       "<PIL.Image.Image image mode=L size=56x28 at 0x10E13A940>"
      ]
     },
     "metadata": {},
     "output_type": "display_data"
    },
    {
     "name": "stdout",
     "output_type": "stream",
     "text": [
      "[9 8]\n"
     ]
    },
    {
     "data": {
      "image/png": "[encoded data removed]",
      "text/plain": [
       "<PIL.Image.Image image mode=L size=56x28 at 0x102F68CC0>"
      ]
     },
     "metadata": {},
     "output_type": "display_data"
    },
    {
     "name": "stdout",
     "output_type": "stream",
     "text": [
      "[9 3]\n"
     ]
    },
    {
     "data": {
      "image/png": "[encoded data removed]",
      "text/plain": [
       "<PIL.Image.Image image mode=L size=56x28 at 0x102F68C50>"
      ]
     },
     "metadata": {},
     "output_type": "display_data"
    }
   ],
   "source": [
    "from keras.preprocessing.image import array_to_img\n",
    "\n",
    "nb_train = 10_000\n",
    "nb_mnist = len(y_mnist)\n",
    "\n",
    "X, y = np.zeros([nb_train, X_mnist.shape[1], X_mnist.shape[2]*2]), np.zeros([nb_train, 2], dtype=np.uint)\n",
    "i = 0\n",
    "while i < nb_train:\n",
    "    j, k = np.random.choice(nb_mnist, size=2)\n",
    "    if y_mnist[j] == 3 or (y_mnist[j] == y_mnist[k]):\n",
    "        continue\n",
    "    \n",
    "    X[i] = np.concatenate([X_mnist[j], X_mnist[k]], axis=1)\n",
    "    y[i] = [y_mnist[j], y_mnist[k]]\n",
    "    i += 1\n",
    "\n",
    "for idx in range(5):\n",
    "    x, y_ = X[idx], y[idx]\n",
    "    img = array_to_img(np.expand_dims(X[idx], axis=0), data_format='channels_first')\n",
    "    print(y_)\n",
    "    display(img)"
   ]
  },
  {
   "cell_type": "markdown",
   "metadata": {
    "deletable": true,
    "editable": true
   },
   "source": [
    "## Task\n",
    "\n",
    "- Transform the list of lists $y \\in \\mathbb{R}^{N \\times 2}$ into a categorical numpy array $Y \\in \\mathbb{R}^{N \\times 10}$ where $Y_{ij} = 1$ if $j \\in y_{[i:]}$ and $0$ otherwise\n",
    "    - $y_{[i:]}$ denotes the $i$th row of $y$\n",
    "\n",
    "## Hints\n",
    "\n",
    "- You are essentially implementing `keras.utils.np_utils.to_categorical()` but for multi-label data instead of one-hot labels"
   ]
  },
  {
   "cell_type": "code",
   "execution_count": 3,
   "metadata": {
    "collapsed": true,
    "deletable": true,
    "editable": true
   },
   "outputs": [],
   "source": [
    "Y = np.zeros([nb_train, 10])\n",
    "\n",
    "for i, (d1, d2) in enumerate(y):\n",
    "    Y[[i, i], [d1, d2]] = 1"
   ]
  },
  {
   "cell_type": "markdown",
   "metadata": {
    "deletable": true,
    "editable": true
   },
   "source": [
    "## Multi-Label Logistic Regression Classifier\n",
    "\n",
    "The following code creates a multi-label logistic regression classifier to predict images with multiple MNIST digits."
   ]
  },
  {
   "cell_type": "code",
   "execution_count": 4,
   "metadata": {
    "collapsed": false,
    "deletable": true,
    "editable": true
   },
   "outputs": [
    {
     "name": "stdout",
     "output_type": "stream",
     "text": [
      "_________________________________________________________________\n",
      "Layer (type)                 Output Shape              Param #   \n",
      "=================================================================\n",
      "flatten_1 (Flatten)          (None, 1568)              0         \n",
      "_________________________________________________________________\n",
      "dense_1 (Dense)              (None, 10)                15690     \n",
      "=================================================================\n",
      "Total params: 15,690.0\n",
      "Trainable params: 15,690.0\n",
      "Non-trainable params: 0.0\n",
      "_________________________________________________________________\n"
     ]
    }
   ],
   "source": [
    "from keras.models import Sequential\n",
    "from keras.layers import Flatten, Dense\n",
    "from keras.constraints import nonneg\n",
    "\n",
    "model = Sequential()\n",
    "model.add(Flatten(input_shape=X.shape[1:]))\n",
    "model.add(Dense(units=10, activation='sigmoid'))\n",
    "model.summary()\n",
    "\n",
    "model.compile(optimizer='adam', loss='binary_crossentropy')"
   ]
  },
  {
   "cell_type": "markdown",
   "metadata": {
    "deletable": true,
    "editable": true
   },
   "source": [
    "## Question\n",
    "\n",
    "- Why is `categorical_crossentropy` a poor choice of loss to use over `binary_crossentropy` for multi-label classification?\n",
    "\n",
    "## Answer\n",
    "\n",
    "- `categorical_crossentropy` only computes gradients on predicted scores which line up with values of `1`.\n",
    "\n",
    "## Question\n",
    "\n",
    "- Why is a sigmoid activation more appropriate than a softmax activation for multi-label classification?\n",
    "\n",
    "## Answer\n",
    "\n",
    "- In multi-label classification, we desire to have multiple normalized class scores to be as close to one as possible. When the number of labels present in each data point is equal to 2, the optimal softmax setting will only yield class scores of 0.5 for softmax (in the limit), whereas softmax will yield 1.0 for each (in the limit).\n",
    "\n",
    "## Question\n",
    "\n",
    "- What piece of training information do we lose when we convert $y$ to $Y$?\n",
    "\n",
    "## Answer\n",
    "\n",
    "- The ordering in of the digits is lost in this representation.\n",
    "\n",
    "## Callback to Measure Accuracy on Threes\n",
    "\n",
    "The following callback takes a set of images and filters them down to only those of the form\n",
    "\n",
    "| Left | Right |\n",
    "|:----:|:-----:|\n",
    "| $\\mathbb{N}_9$ - $\\{3\\}$ | $3$ |\n",
    "\n",
    "It then flips all of these images to make another set of images of the form\n",
    "\n",
    "| Left | Right |\n",
    "|:----:|:-----:|\n",
    "| $3$ | $\\mathbb{N}_9$ - $\\{3\\}$ |\n",
    "\n",
    "The model is evaluated on how well it predicts the presence of a 3. Concretely it computes multiclass accuracy on the digit 3 where a prediction of class scores is deemed \"correct\" if the class score for 3 is either the highest or second-highest."
   ]
  },
  {
   "cell_type": "code",
   "execution_count": 5,
   "metadata": {
    "collapsed": false,
    "deletable": true,
    "editable": true
   },
   "outputs": [],
   "source": [
    "import IPython\n",
    "import copy\n",
    "import keras\n",
    "import pandas as pd\n",
    "%matplotlib inline\n",
    "import matplotlib.pyplot as plt\n",
    "\n",
    "class ThreeAccuracyCallback(keras.callbacks.Callback):\n",
    "    def __init__(self, X, y, plot=True):\n",
    "        three_idxs = np.argwhere(y[:, 1] == 3).flatten()\n",
    "        self.X3 = X[three_idxs]\n",
    "        self.X3_flipped = np.array([self._reverse(x) for x in self.X3])\n",
    "        self.nb_3 = len(self.X3)\n",
    "        self.plot = plot\n",
    "        \n",
    "    def _reverse(self, x):\n",
    "        x = copy.deepcopy(x)\n",
    "        left, right = copy.deepcopy(x[:, :28]), copy.deepcopy(x[:, 28:])\n",
    "        x[:, :28], x[:, 28:] = right, left\n",
    "        return x\n",
    "        \n",
    "    def on_epoch_end(self, epoch, logs={}):\n",
    "        Y3_pred, Y3_flipped_pred = self.model.predict(self.X3), self.model.predict(self.X3_flipped)\n",
    "        y3_pred, y3_flipped_pred = np.argsort(-Y3_pred)[:, :2], np.argsort(-Y3_flipped_pred)[:, :2]\n",
    "        \n",
    "        logs['3 accuracy'] = np.sum(np.argsort(-Y3_pred)[:, :2] == 3, axis=1).mean()\n",
    "        logs['flipped 3 accuracy'] = np.sum(np.argsort(-Y3_flipped_pred)[:, :2] == 3, axis=1).mean()\n",
    "        \n",
    "        # Display sample image\n",
    "        if not self.plot:\n",
    "            return\n",
    "            \n",
    "        IPython.display.clear_output()\n",
    "        idx = np.random.choice(self.nb_3)\n",
    "        x3, x3_flipped = self.X3[idx], self.X3_flipped[idx]\n",
    "        x3 = np.expand_dims(x3, axis=-1) if x3.ndim == 2 else x3\n",
    "        x3_flipped = np.expand_dims(x3_flipped, axis=-1) if x3_flipped.ndim == 2 else x3_flipped\n",
    "        y3_pred, y3_flipped_pred = Y3_pred[idx], Y3_flipped_pred[idx]\n",
    "        display(array_to_img(x3, data_format='channels_last'))\n",
    "        pd.Series(y3_pred).plot(kind='bar')\n",
    "        plt.show()\n",
    "        display(array_to_img(x3_flipped, data_format='channels_last'))\n",
    "        pd.Series(y3_flipped_pred).plot(kind='bar')\n",
    "        plt.show()"
   ]
  },
  {
   "cell_type": "markdown",
   "metadata": {
    "deletable": true,
    "editable": true
   },
   "source": [
    "## Fit the Model\n",
    "\n",
    "The following code fits a multi-label logistic regression model to the multi-digit MNIST images and uses an `AccuracyCallback` for evaluation."
   ]
  },
  {
   "cell_type": "code",
   "execution_count": 6,
   "metadata": {
    "collapsed": false,
    "deletable": true,
    "editable": true,
    "scrolled": false
   },
   "outputs": [
    {
     "data": {
      "image/png": "[encoded data removed]",
      "text/plain": [
       "<PIL.Image.Image image mode=L size=56x28 at 0x123560080>"
      ]
     },
     "metadata": {},
     "output_type": "display_data"
    },
    {
     "data": {
      "image/png": "[encoded data removed]",
      "text/plain": [
       "<matplotlib.figure.Figure at 0x1235604e0>"
      ]
     },
     "metadata": {},
     "output_type": "display_data"
    },
    {
     "data": {
      "image/png": "[encoded data removed]",
      "text/plain": [
       "<PIL.Image.Image image mode=L size=56x28 at 0x123630320>"
      ]
     },
     "metadata": {},
     "output_type": "display_data"
    },
    {
     "data": {
      "image/png": "[encoded data removed]",
      "text/plain": [
       "<matplotlib.figure.Figure at 0x123630128>"
      ]
     },
     "metadata": {},
     "output_type": "display_data"
    },
    {
     "name": "stdout",
     "output_type": "stream",
     "text": [
      "9000/9000 [==============================] - 1s - loss: 0.1747     \n"
     ]
    },
    {
     "data": {
      "image/png": "[encoded data removed]",
      "text/plain": [
       "<matplotlib.figure.Figure at 0x1235e5780>"
      ]
     },
     "metadata": {},
     "output_type": "display_data"
    }
   ],
   "source": [
    "import pandas as pd\n",
    "%matplotlib inline\n",
    "\n",
    "Y = np.zeros([nb_train, 10])\n",
    "for i, (d1, d2) in enumerate(y):\n",
    "    Y[[i, i], [d1, d2]] = 1\n",
    "\n",
    "X_train, Y_train = X[:-nb_train//10], Y[:-nb_train//10]\n",
    "X_val, y_val = X[-nb_train//10:], y[-nb_train//10:]\n",
    "\n",
    "history = model.fit(X_train, Y_train, callbacks=[ThreeAccuracyCallback(X_val, y_val)])\n",
    "pd.DataFrame(history.history).plot();"
   ]
  },
  {
   "cell_type": "markdown",
   "metadata": {
    "deletable": true,
    "editable": true
   },
   "source": [
    "# Display Learned Weights\n",
    "\n",
    "The following code displays the learned multi-label logistic regression weights for each digit class."
   ]
  },
  {
   "cell_type": "code",
   "execution_count": 7,
   "metadata": {
    "collapsed": false,
    "deletable": true,
    "editable": true,
    "scrolled": false
   },
   "outputs": [
    {
     "name": "stdout",
     "output_type": "stream",
     "text": [
      "0\n"
     ]
    },
    {
     "data": {
      "image/png": "[encoded data removed]",
      "text/plain": [
       "<PIL.Image.Image image mode=L size=56x28 at 0x10E1EEBE0>"
      ]
     },
     "metadata": {},
     "output_type": "display_data"
    },
    {
     "name": "stdout",
     "output_type": "stream",
     "text": [
      "1\n"
     ]
    },
    {
     "data": {
      "image/png": "[encoded data removed]",
      "text/plain": [
       "<PIL.Image.Image image mode=L size=56x28 at 0x10E24ECC0>"
      ]
     },
     "metadata": {},
     "output_type": "display_data"
    },
    {
     "name": "stdout",
     "output_type": "stream",
     "text": [
      "2\n"
     ]
    },
    {
     "data": {
      "image/png": "[encoded data removed]",
      "text/plain": [
       "<PIL.Image.Image image mode=L size=56x28 at 0x10E1EEBE0>"
      ]
     },
     "metadata": {},
     "output_type": "display_data"
    },
    {
     "name": "stdout",
     "output_type": "stream",
     "text": [
      "3\n"
     ]
    },
    {
     "data": {
      "image/png": "[encoded data removed]",
      "text/plain": [
       "<PIL.Image.Image image mode=L size=56x28 at 0x10E24EE48>"
      ]
     },
     "metadata": {},
     "output_type": "display_data"
    },
    {
     "name": "stdout",
     "output_type": "stream",
     "text": [
      "4\n"
     ]
    },
    {
     "data": {
      "image/png": "[encoded data removed]",
      "text/plain": [
       "<PIL.Image.Image image mode=L size=56x28 at 0x10E1EEBE0>"
      ]
     },
     "metadata": {},
     "output_type": "display_data"
    },
    {
     "name": "stdout",
     "output_type": "stream",
     "text": [
      "5\n"
     ]
    },
    {
     "data": {
      "image/png": "[encoded data removed]",
      "text/plain": [
       "<PIL.Image.Image image mode=L size=56x28 at 0x10E24ECC0>"
      ]
     },
     "metadata": {},
     "output_type": "display_data"
    },
    {
     "name": "stdout",
     "output_type": "stream",
     "text": [
      "6\n"
     ]
    },
    {
     "data": {
      "image/png": "[encoded data removed]",
      "text/plain": [
       "<PIL.Image.Image image mode=L size=56x28 at 0x10E1EEBE0>"
      ]
     },
     "metadata": {},
     "output_type": "display_data"
    },
    {
     "name": "stdout",
     "output_type": "stream",
     "text": [
      "7\n"
     ]
    },
    {
     "data": {
      "image/png": "[encoded data removed]",
      "text/plain": [
       "<PIL.Image.Image image mode=L size=56x28 at 0x10E24ECF8>"
      ]
     },
     "metadata": {},
     "output_type": "display_data"
    },
    {
     "name": "stdout",
     "output_type": "stream",
     "text": [
      "8\n"
     ]
    },
    {
     "data": {
      "image/png": "[encoded data removed]",
      "text/plain": [
       "<PIL.Image.Image image mode=L size=56x28 at 0x10E1EEBE0>"
      ]
     },
     "metadata": {},
     "output_type": "display_data"
    },
    {
     "name": "stdout",
     "output_type": "stream",
     "text": [
      "9\n"
     ]
    },
    {
     "data": {
      "image/png": "[encoded data removed]",
      "text/plain": [
       "<PIL.Image.Image image mode=L size=56x28 at 0x10E24EE80>"
      ]
     },
     "metadata": {},
     "output_type": "display_data"
    }
   ],
   "source": [
    "from IPython.display import display\n",
    "\n",
    "W, b = model.layers[-1].get_weights()\n",
    "for d in range(10):\n",
    "    w0 = W[:, d].reshape(*X.shape[1:])\n",
    "    img = array_to_img(np.expand_dims(w0, axis=0), data_format='channels_first')\n",
    "    print(d)\n",
    "    display(img)"
   ]
  },
  {
   "cell_type": "markdown",
   "metadata": {
    "deletable": true,
    "editable": true
   },
   "source": [
    "\n",
    "\n",
    "Once again the model is awarded a point if it awards 3 one of the top two scores.\n",
    "\n",
    "# Convert `X` to TensorFlow Format\n",
    "\n",
    "The following code converts `X` which has shape `(10000, 28, 56)` data into a variable `X_tf` which is suitable for use with TensorFlow and has shape `(10000, 28, 56, 1)`."
   ]
  },
  {
   "cell_type": "code",
   "execution_count": 8,
   "metadata": {
    "collapsed": false,
    "deletable": true,
    "editable": true
   },
   "outputs": [
    {
     "data": {
      "text/plain": [
       "(10000, 28, 56, 1)"
      ]
     },
     "execution_count": 8,
     "metadata": {},
     "output_type": "execute_result"
    }
   ],
   "source": [
    "from keras.preprocessing.image import img_to_array\n",
    "\n",
    "imgs = [array_to_img(x, data_format='channels_first') for x in np.expand_dims(X, axis=1)]\n",
    "\n",
    "X_tf = np.array([img_to_array(img) for img in imgs])\n",
    "X_tf = X_tf.astype(np.float) / 255.\n",
    "X_tf_train, X_tf_val = X_tf[:-nb_train//10], X_tf[-nb_train//10:]\n",
    "\n",
    "X_tf.shape"
   ]
  },
  {
   "cell_type": "markdown",
   "metadata": {
    "deletable": true,
    "editable": true
   },
   "source": [
    "## Task\n",
    "\n",
    "- Define a CNN model to maximize the accuracy of both images with the number 3 and when these numbers have been swapped\n",
    "\n",
    "## Requirements\n",
    "\n",
    "- You may only use `Conv2D`, `MaxPool2D`, `ReLU`, `Flatten`, `Dense`, and `Sigmoid` layers\n",
    "- Use the `ThreeAccuracyCallback` for evaluation\n",
    "- Use the `adam` optimizer by specifying `keras.models.Model.compile(..., optimizer='adam')` and do not adjust the default learning rate\n",
    "- You are limited to `X_tf_train` and `X_tf_val` and may *not* use any kind of data augmentation\n",
    "\n",
    "## Hints\n",
    "\n",
    "- Use your intuitions of max-pooling and convolution for narrowing down your architecture search"
   ]
  },
  {
   "cell_type": "markdown",
   "metadata": {
    "deletable": true,
    "editable": true
   },
   "source": [
    "# Shallow CNN Model"
   ]
  },
  {
   "cell_type": "code",
   "execution_count": 9,
   "metadata": {
    "collapsed": false,
    "deletable": true,
    "editable": true
   },
   "outputs": [
    {
     "name": "stdout",
     "output_type": "stream",
     "text": [
      "_________________________________________________________________\n",
      "Layer (type)                 Output Shape              Param #   \n",
      "=================================================================\n",
      "conv2d_1 (Conv2D)            (None, 19, 47, 64)        6464      \n",
      "_________________________________________________________________\n",
      "max_pooling2d_1 (MaxPooling2 (None, 9, 23, 64)         0         \n",
      "_________________________________________________________________\n",
      "flatten_2 (Flatten)          (None, 13248)             0         \n",
      "_________________________________________________________________\n",
      "dense_2 (Dense)              (None, 10)                132490    \n",
      "=================================================================\n",
      "Total params: 138,954.0\n",
      "Trainable params: 138,954.0\n",
      "Non-trainable params: 0.0\n",
      "_________________________________________________________________\n"
     ]
    }
   ],
   "source": [
    "from keras.models import Sequential\n",
    "from keras.layers import Conv2D, Dense, MaxPool2D\n",
    "from keras.constraints import nonneg\n",
    "\n",
    "model = Sequential()\n",
    "model.add(Conv2D(filters=64, kernel_size=10, activation='relu', input_shape=[28, 56, 1]))\n",
    "model.add(MaxPool2D(pool_size=[2, 2]))\n",
    "model.add(Flatten())\n",
    "model.add(Dense(units=10, activation='sigmoid'))\n",
    "model.summary()\n",
    "\n",
    "model.compile(optimizer='adam', loss='binary_crossentropy')"
   ]
  },
  {
   "cell_type": "markdown",
   "metadata": {
    "deletable": true,
    "editable": true
   },
   "source": [
    "# Fit the Model"
   ]
  },
  {
   "cell_type": "code",
   "execution_count": 10,
   "metadata": {
    "collapsed": false,
    "deletable": true,
    "editable": true
   },
   "outputs": [
    {
     "data": {
      "image/png": "[encoded data removed]",
      "text/plain": [
       "<PIL.Image.Image image mode=L size=56x28 at 0x114931940>"
      ]
     },
     "metadata": {},
     "output_type": "display_data"
    },
    {
     "data": {
      "image/png": "[encoded data removed]",
      "text/plain": [
       "<matplotlib.figure.Figure at 0x114955278>"
      ]
     },
     "metadata": {},
     "output_type": "display_data"
    },
    {
     "data": {
      "image/png": "[encoded data removed]",
      "text/plain": [
       "<PIL.Image.Image image mode=L size=56x28 at 0x123FC7D68>"
      ]
     },
     "metadata": {},
     "output_type": "display_data"
    },
    {
     "data": {
      "image/png": "[encoded data removed]",
      "text/plain": [
       "<matplotlib.figure.Figure at 0x114b716a0>"
      ]
     },
     "metadata": {},
     "output_type": "display_data"
    },
    {
     "name": "stdout",
     "output_type": "stream",
     "text": [
      "9000/9000 [==============================] - 23s - loss: 0.1924    \n"
     ]
    },
    {
     "data": {
      "text/plain": [
       "{'3 accuracy': [0.89763779527559051],\n",
       " 'flipped 3 accuracy': [0.015748031496062992],\n",
       " 'loss': [0.19240036167038813]}"
      ]
     },
     "execution_count": 10,
     "metadata": {},
     "output_type": "execute_result"
    }
   ],
   "source": [
    "history = model.fit(X_tf_train, Y_train, epochs=1, callbacks=[ThreeAccuracyCallback(X_tf_val, y_val)])\n",
    "history.history"
   ]
  },
  {
   "cell_type": "markdown",
   "metadata": {
    "deletable": true,
    "editable": true
   },
   "source": [
    "# 3-Layer CNN"
   ]
  },
  {
   "cell_type": "code",
   "execution_count": 11,
   "metadata": {
    "collapsed": false,
    "deletable": true,
    "editable": true
   },
   "outputs": [
    {
     "name": "stdout",
     "output_type": "stream",
     "text": [
      "_________________________________________________________________\n",
      "Layer (type)                 Output Shape              Param #   \n",
      "=================================================================\n",
      "conv2d_2 (Conv2D)            (None, 26, 54, 32)        320       \n",
      "_________________________________________________________________\n",
      "max_pooling2d_2 (MaxPooling2 (None, 13, 27, 32)        0         \n",
      "_________________________________________________________________\n",
      "conv2d_3 (Conv2D)            (None, 11, 25, 32)        9248      \n",
      "_________________________________________________________________\n",
      "max_pooling2d_3 (MaxPooling2 (None, 5, 12, 32)         0         \n",
      "_________________________________________________________________\n",
      "conv2d_4 (Conv2D)            (None, 3, 10, 64)         18496     \n",
      "_________________________________________________________________\n",
      "max_pooling2d_4 (MaxPooling2 (None, 1, 5, 64)          0         \n",
      "_________________________________________________________________\n",
      "flatten_3 (Flatten)          (None, 320)               0         \n",
      "_________________________________________________________________\n",
      "dense_3 (Dense)              (None, 10)                3210      \n",
      "=================================================================\n",
      "Total params: 31,274.0\n",
      "Trainable params: 31,274.0\n",
      "Non-trainable params: 0.0\n",
      "_________________________________________________________________\n"
     ]
    }
   ],
   "source": [
    "from keras.models import Sequential\n",
    "from keras.layers import Conv2D, Dense, MaxPool2D\n",
    "from keras.constraints import nonneg\n",
    "\n",
    "model = Sequential()\n",
    "model.add(Conv2D(filters=32, kernel_size=3, activation='relu', input_shape=[28, 56, 1]))\n",
    "model.add(MaxPool2D(pool_size=[2, 2]))\n",
    "model.add(Conv2D(filters=32, kernel_size=3, activation='relu'))\n",
    "model.add(MaxPool2D(pool_size=[2, 2]))\n",
    "model.add(Conv2D(filters=64, kernel_size=3, activation='relu'))\n",
    "model.add(MaxPool2D(pool_size=[2, 2]))\n",
    "model.add(Flatten())\n",
    "model.add(Dense(units=10, activation='sigmoid'))\n",
    "model.summary()\n",
    "\n",
    "model.compile(optimizer='adam', loss='binary_crossentropy')"
   ]
  },
  {
   "cell_type": "code",
   "execution_count": 12,
   "metadata": {
    "collapsed": false,
    "deletable": true,
    "editable": true
   },
   "outputs": [
    {
     "data": {
      "image/png": "[encoded data removed]",
      "text/plain": [
       "<PIL.Image.Image image mode=L size=56x28 at 0x1157B3048>"
      ]
     },
     "metadata": {},
     "output_type": "display_data"
    },
    {
     "data": {
      "image/png": "[encoded data removed]",
      "text/plain": [
       "<matplotlib.figure.Figure at 0x115b79470>"
      ]
     },
     "metadata": {},
     "output_type": "display_data"
    },
    {
     "data": {
      "image/png": "[encoded data removed]",
      "text/plain": [
       "<PIL.Image.Image image mode=L size=56x28 at 0x11643FF60>"
      ]
     },
     "metadata": {},
     "output_type": "display_data"
    },
    {
     "data": {
      "image/png": "[encoded data removed]",
      "text/plain": [
       "<matplotlib.figure.Figure at 0x11643fef0>"
      ]
     },
     "metadata": {},
     "output_type": "display_data"
    },
    {
     "name": "stdout",
     "output_type": "stream",
     "text": [
      "9000/9000 [==============================] - 20s - loss: 0.0931    \n"
     ]
    },
    {
     "data": {
      "image/png": "[encoded data removed]",
      "text/plain": [
       "<matplotlib.figure.Figure at 0x11685b208>"
      ]
     },
     "metadata": {},
     "output_type": "display_data"
    }
   ],
   "source": [
    "history = model.fit(X_tf_train, Y_train, epochs=3, callbacks=[ThreeAccuracyCallback(X_tf_val, y_val)])\n",
    "pd.DataFrame(history.history).plot();"
   ]
  },
  {
   "cell_type": "markdown",
   "metadata": {
    "deletable": true,
    "editable": true
   },
   "source": [
    "# Aggressive Max-Pooling"
   ]
  },
  {
   "cell_type": "code",
   "execution_count": 15,
   "metadata": {
    "collapsed": false,
    "deletable": true,
    "editable": true
   },
   "outputs": [],
   "source": [
    "# from keras.models import Sequential\n",
    "# from keras.layers import Conv2D, Dense, MaxPool2D\n",
    "# from keras.constraints import nonneg\n",
    "\n",
    "# model = Sequential()\n",
    "# model.add(Conv2D(filters=64, kernel_size=3, activation='relu', input_shape=[28, 56, 1]))\n",
    "# model.add(MaxPool2D(pool_size=[1, 56]))\n",
    "# model.add(Flatten())\n",
    "# model.add(Dense(units=10, activation='sigmoid'))\n",
    "# model.summary()\n",
    "\n",
    "# model.compile(optimizer='adam', loss='binary_crossentropy')"
   ]
  },
  {
   "cell_type": "code",
   "execution_count": 18,
   "metadata": {
    "collapsed": false
   },
   "outputs": [],
   "source": [
    "model = Sequential()\n",
    "model.add(Conv2D(10, kernel_size=(28, 28),\n",
    "                        strides=(28,28), \n",
    "                        activation='sigmoid', input_shape=[28, 56, 1]))\n",
    "model.add(MaxPool2D(pool_size=(1,2)))\n",
    "model.add(Flatten())\n",
    "model.compile(loss='binary_crossentropy', optimizer='adam', metrics=['accuracy'])\n"
   ]
  },
  {
   "cell_type": "code",
   "execution_count": 19,
   "metadata": {
    "collapsed": false,
    "deletable": true,
    "editable": true,
    "scrolled": true
   },
   "outputs": [
    {
     "data": {
      "image/png": "[encoded data removed]",
      "text/plain": [
       "<PIL.Image.Image image mode=L size=56x28 at 0x1149622E8>"
      ]
     },
     "metadata": {},
     "output_type": "display_data"
    },
    {
     "data": {
      "image/png": "[encoded data removed]",
      "text/plain": [
       "<matplotlib.figure.Figure at 0x116437d68>"
      ]
     },
     "metadata": {},
     "output_type": "display_data"
    },
    {
     "data": {
      "image/png": "[encoded data removed]",
      "text/plain": [
       "<PIL.Image.Image image mode=L size=56x28 at 0x1168835F8>"
      ]
     },
     "metadata": {},
     "output_type": "display_data"
    },
    {
     "data": {
      "image/png": "[encoded data removed]",
      "text/plain": [
       "<matplotlib.figure.Figure at 0x1155ccb70>"
      ]
     },
     "metadata": {},
     "output_type": "display_data"
    },
    {
     "name": "stdout",
     "output_type": "stream",
     "text": [
      "9000/9000 [==============================] - 1s - loss: 0.1634 - acc: 0.9477     \n"
     ]
    },
    {
     "data": {
      "image/png": "[encoded data removed]",
      "text/plain": [
       "<matplotlib.figure.Figure at 0x116538cc0>"
      ]
     },
     "metadata": {},
     "output_type": "display_data"
    }
   ],
   "source": [
    "history = model.fit(X_tf_train, Y_train, epochs=3, callbacks=[ThreeAccuracyCallback(X_tf_val, y_val)])\n",
    "pd.DataFrame(history.history).plot();"
   ]
  },
  {
   "cell_type": "code",
   "execution_count": 23,
   "metadata": {
    "collapsed": false
   },
   "outputs": [
    {
     "name": "stdout",
     "output_type": "stream",
     "text": [
      "_________________________________________________________________\n",
      "Layer (type)                 Output Shape              Param #   \n",
      "=================================================================\n",
      "conv2d_13 (Conv2D)           (None, 27, 55, 30)        150       \n",
      "_________________________________________________________________\n",
      "conv2d_14 (Conv2D)           (None, 26, 54, 30)        3630      \n",
      "_________________________________________________________________\n",
      "max_pooling2d_10 (MaxPooling (None, 13, 1, 30)         0         \n",
      "_________________________________________________________________\n",
      "dropout_1 (Dropout)          (None, 13, 1, 30)         0         \n",
      "_________________________________________________________________\n",
      "flatten_6 (Flatten)          (None, 390)               0         \n",
      "_________________________________________________________________\n",
      "dense_4 (Dense)              (None, 128)               50048     \n",
      "_________________________________________________________________\n",
      "dropout_2 (Dropout)          (None, 128)               0         \n",
      "_________________________________________________________________\n",
      "dense_5 (Dense)              (None, 10)                1290      \n",
      "=================================================================\n",
      "Total params: 55,118.0\n",
      "Trainable params: 55,118.0\n",
      "Non-trainable params: 0.0\n",
      "_________________________________________________________________\n"
     ]
    }
   ],
   "source": [
    "from keras.models import Sequential\n",
    "from keras.layers import Conv2D, MaxPooling2D, Flatten, Dense, Dropout\n",
    "model = Sequential()\n",
    "model.add(Conv2D(30, kernel_size=(2, 2), activation='relu', input_shape=[28, 56, 1]))\n",
    "model.add(Conv2D(30, (2, 2), activation='relu'))\n",
    "#model.add(Conv2D(30, (3, 3), activation='relu'))\n",
    "model.add(MaxPool2D(pool_size=(2, 54)))\n",
    "model.add(Dropout(0.25))\n",
    "model.add(Flatten())\n",
    "model.add(Dense(128, activation='relu'))\n",
    "model.add(Dropout(0.5))\n",
    "model.add(Dense(10, activation='sigmoid'))\n",
    "\n",
    "model.summary()\n",
    "model.compile(loss='binary_crossentropy', optimizer='adam', metrics=['accuracy'])"
   ]
  },
  {
   "cell_type": "code",
   "execution_count": 26,
   "metadata": {
    "collapsed": false
   },
   "outputs": [
    {
     "data": {
      "image/png": "[encoded data removed]",
      "text/plain": [
       "<PIL.Image.Image image mode=L size=56x28 at 0x11686C160>"
      ]
     },
     "metadata": {},
     "output_type": "display_data"
    },
    {
     "data": {
      "image/png": "[encoded data removed]",
      "text/plain": [
       "<matplotlib.figure.Figure at 0x124092e48>"
      ]
     },
     "metadata": {},
     "output_type": "display_data"
    },
    {
     "data": {
      "image/png": "[encoded data removed]",
      "text/plain": [
       "<PIL.Image.Image image mode=L size=56x28 at 0x124C022B0>"
      ]
     },
     "metadata": {},
     "output_type": "display_data"
    },
    {
     "data": {
      "image/png": "[encoded data removed]",
      "text/plain": [
       "<matplotlib.figure.Figure at 0x1168d8978>"
      ]
     },
     "metadata": {},
     "output_type": "display_data"
    },
    {
     "name": "stdout",
     "output_type": "stream",
     "text": [
      "9000/9000 [==============================] - 28s - loss: 0.1745 - acc: 0.9324    \n"
     ]
    },
    {
     "data": {
      "image/png": "[encoded data removed]",
      "text/plain": [
       "<matplotlib.figure.Figure at 0x10e059e48>"
      ]
     },
     "metadata": {},
     "output_type": "display_data"
    }
   ],
   "source": [
    "history = model.fit(X_tf_train, Y_train,\n",
    "                    callbacks=[ThreeAccuracyCallback(X_tf_val, y_val)])\n",
    "pd.DataFrame(history.history).plot();"
   ]
  },
  {
   "cell_type": "markdown",
   "metadata": {
    "deletable": true,
    "editable": true
   },
   "source": [
    "# Question\n",
    "\n",
    "- What architectural choice was necessary to include to increase prediction on the test set? Concretely, list the hyperparameter values that worked. Justify why inclusion of this architectural property is necessary for the model to make accurate predictions on the test set."
   ]
  }
 ],
 "metadata": {
  "kernelspec": {
   "display_name": "Python [dl]",
   "language": "python",
   "name": "Python [dl]"
  },
  "language_info": {
   "codemirror_mode": {
    "name": "ipython",
    "version": 3
   },
   "file_extension": ".py",
   "mimetype": "text/x-python",
   "name": "python",
   "nbconvert_exporter": "python",
   "pygments_lexer": "ipython3",
   "version": "3.6.0"
  }
 },
 "nbformat": 4,
 "nbformat_minor": 2
}
